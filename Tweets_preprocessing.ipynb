{
 "cells": [
  {
   "cell_type": "markdown",
   "id": "e88522da-cb5b-44f8-ab29-36c98e69d5a5",
   "metadata": {},
   "source": [
    "# Sentiment analysis of a corpus of Tweets to positive and negative"
   ]
  },
  {
   "cell_type": "code",
   "execution_count": 2,
   "id": "b66e9eb1-cf84-431b-bb2e-6fdd97ced935",
   "metadata": {},
   "outputs": [],
   "source": [
    "\n",
    "import os\n",
    "import numpy as np\n",
    "import tensorflow as tf\n",
    "import matplotlib.pyplot as plt\n",
    "from sklearn.decomposition import PCA\n",
    "\n",
    "import string\n",
    "import re\n",
    "import nltk\n",
    "from nltk.tokenize import TweetTokenizer, sent_tokenize, word_tokenize\n",
    "from nltk.corpus import stopwords, twitter_samples, wordnet \n",
    "from nltk.stem import WordNetLemmatizer , PorterStemmer\n"
   ]
  },
  {
   "cell_type": "code",
   "execution_count": 6,
   "id": "bfb5e00d-2cb0-49ca-9eab-da5e20a28f83",
   "metadata": {},
   "outputs": [
    {
     "name": "stderr",
     "output_type": "stream",
     "text": [
      "[nltk_data] Downloading package twitter_samples to\n",
      "[nltk_data]     /home/mpir0002/nltk_data...\n",
      "[nltk_data]   Package twitter_samples is already up-to-date!\n",
      "[nltk_data] Downloading package stopwords to\n",
      "[nltk_data]     /home/mpir0002/nltk_data...\n",
      "[nltk_data]   Package stopwords is already up-to-date!\n",
      "[nltk_data] Downloading package averaged_perceptron_tagger to\n",
      "[nltk_data]     /home/mpir0002/nltk_data...\n",
      "[nltk_data]   Package averaged_perceptron_tagger is already up-to-\n",
      "[nltk_data]       date!\n",
      "[nltk_data] Downloading package wordnet to /home/mpir0002/nltk_data...\n",
      "[nltk_data]   Package wordnet is already up-to-date!\n"
     ]
    },
    {
     "data": {
      "text/plain": [
       "True"
      ]
     },
     "execution_count": 6,
     "metadata": {},
     "output_type": "execute_result"
    }
   ],
   "source": [
    "\n",
    "nltk.download('twitter_samples')\n",
    "nltk.download('stopwords')\n",
    "nltk.download('averaged_perceptron_tagger')\n",
    "nltk.download('wordnet')\n"
   ]
  },
  {
   "cell_type": "markdown",
   "id": "6634dfaa-beed-4167-a822-5be7e63ff4bc",
   "metadata": {},
   "source": [
    "<a name=\"1\"></a>\n",
    "## 1) Load and tokenizing data\n"
   ]
  },
  {
   "cell_type": "code",
   "execution_count": 3,
   "id": "d564f87d-225d-4db0-9171-2f2e24eef6b5",
   "metadata": {},
   "outputs": [
    {
     "name": "stdout",
     "output_type": "stream",
     "text": [
      "['i', 'me', 'my', 'myself', 'we', 'our', 'ours', 'ourselves', 'you', \"you're\", \"you've\", \"you'll\", \"you'd\", 'your', 'yours', 'yourself', 'yourselves', 'he', 'him', 'his']\n"
     ]
    }
   ],
   "source": [
    "\n",
    "lemmatizer = WordNetLemmatizer()\n",
    "stopwords_english = stopwords.words('english')\n",
    "stemmer = PorterStemmer()\n",
    "print(stopwords_english[0:20])\n"
   ]
  },
  {
   "cell_type": "code",
   "execution_count": 4,
   "id": "3bdb0a9e-ad12-44b8-a522-0fbaec46f910",
   "metadata": {},
   "outputs": [],
   "source": [
    "\n",
    "def load_tweets():\n",
    "    all_positive_tweets = twitter_samples.strings('positive_tweets.json')\n",
    "    all_negative_tweets = twitter_samples.strings('negative_tweets.json')  \n",
    "    return all_positive_tweets, all_negative_tweets\n"
   ]
  },
  {
   "cell_type": "code",
   "execution_count": 5,
   "id": "12df1f12-77ce-4e3c-a8fd-bb9f1da35d42",
   "metadata": {},
   "outputs": [],
   "source": [
    "# Function to convert NLTK POS tags to WordNet POS tags\n",
    "def pos_tag_convert(nltk_tag: str) -> str:\n",
    "    '''Converts nltk tags to tags that are understandable by the lemmatizer.\n",
    "    \n",
    "    Args:\n",
    "        nltk_tag (str): nltk tag\n",
    "        \n",
    "    Returns:\n",
    "        _ (str): converted tag\n",
    "    '''\n",
    "    if nltk_tag.startswith('J'):\n",
    "        return wordnet.ADJ\n",
    "    elif nltk_tag.startswith('V'):\n",
    "        return wordnet.VERB\n",
    "    elif nltk_tag.startswith('N'):\n",
    "        return wordnet.NOUN\n",
    "    elif nltk_tag.startswith('R'):\n",
    "        return wordnet.ADV\n",
    "    else:         \n",
    "        return wordnet.NOUN\n"
   ]
  },
  {
   "cell_type": "code",
   "execution_count": 6,
   "id": "0920c937-9407-4259-89d6-19909cbb8b57",
   "metadata": {},
   "outputs": [],
   "source": [
    "\n",
    "def process_tweet(sentence):\n",
    "    '''\n",
    "    Input: \n",
    "        tweet: a string containing a tweet\n",
    "    Output:\n",
    "        tweets_clean: a list of words containing the processed tweet\n",
    "    \n",
    "    '''\n",
    "    # remove stock market tickers like $GE\n",
    "    sentence = re.sub(r'\\$\\w*', '', sentence)\n",
    "    # remove old style retweet text \"RT\"\n",
    "    sentence = re.sub(r'^RT[\\s]+', '', sentence)\n",
    "    # remove hyperlinks\n",
    "    sentence = re.sub(r'https?:\\/\\/.*[\\r\\n]*', '', sentence)\n",
    "    # remove hashtags\n",
    "    # only removing the hash # sign from the word\n",
    "    sentence = re.sub(r'#', '', sentence)\n",
    "    # tokenize tweets\n",
    "    \n",
    "    tokenizer = TweetTokenizer(preserve_case=False, strip_handles=True, reduce_len=True)\n",
    "    # preserve_case=False: Converts text to lowercase.\n",
    "    # strip_handles=True: Removes Twitter handles (e.g., @user).\n",
    "    # reduce_len=True: Reduces elongated words (e.g., loooove -> looove).\n",
    "    tokens = nltk.pos_tag(tokenizer.tokenize(sentence))\n",
    "    \n",
    "    tokens_clean = []\n",
    "    for token in tokens:\n",
    "        word = token[0]\n",
    "        if (word not in stopwords_english and # remove stopwords\n",
    "            word not in string.punctuation): # remove punctuation\n",
    "            #word = stemmer.stem(word)\n",
    "            stem_word = lemmatizer.lemmatize(word , pos_tag_convert(token[1]))\n",
    "            tokens_clean.append(stem_word)\n",
    "    return tokens_clean\n"
   ]
  },
  {
   "cell_type": "code",
   "execution_count": 7,
   "id": "df8b9139-f046-45bd-a386-d9c1b9b3ca64",
   "metadata": {},
   "outputs": [
    {
     "name": "stdout",
     "output_type": "stream",
     "text": [
      "[('i', 'NN'), ('looove', 'VBP'), ('nlp', 'NN'), ('!', '.'), ('!', '.'), ('!', '.'), (\"it's\", 'JJ'), ('amazing', 'NN'), ('.', '.')]\n",
      "looove\n"
     ]
    }
   ],
   "source": [
    "sentence = \"I loooove NLP!!! It's amazing.\"\n",
    "tokenizer = TweetTokenizer(preserve_case=False, strip_handles=True, reduce_len=True)\n",
    "tokens = nltk.pos_tag(tokenizer.tokenize(sentence))\n",
    "print(tokens)\n",
    "print(tokens[1][0])\n"
   ]
  },
  {
   "cell_type": "code",
   "execution_count": 8,
   "id": "2973372f-b023-4147-b203-9e88a1f97570",
   "metadata": {},
   "outputs": [],
   "source": [
    "\n",
    "# The difference between `lemmatizer.lemmatize(word, pos_tag_convert(token[1]))` and `lemmatizer.lemmatize(word)` lies in the usage of the part-of-speech (POS) tag to guide the lemmatization process.\n",
    "\n",
    "# ### Without POS Tag\n",
    "\n",
    "# ```python\n",
    "# lemmatizer.lemmatize(word)\n",
    "# ```\n",
    "\n",
    "# When you use the `lemmatizer.lemmatize(word)` method without providing a POS tag, the default POS tag used is `noun`. This means the lemmatizer will assume that the word is a noun, and it will return the base form (lemma) of the word as if it were a noun.\n",
    "\n",
    "# ### With POS Tag\n",
    "\n",
    "# ```python\n",
    "# lemmatizer.lemmatize(word, pos_tag_convert(token[1]))\n",
    "# ```\n",
    "\n",
    "# When you provide a POS tag using `lemmatizer.lemmatize(word, pos_tag_convert(token[1]))`, the lemmatizer uses the provided POS tag to determine the correct base form of the word. This leads to more accurate lemmatization because different POS tags can have different lemmas.\n",
    "\n",
    "# ### Example\n",
    "\n",
    "# Consider the word \"running\" and its different lemmas depending on the POS tag:\n",
    "\n",
    "# 1. **Without POS Tag (Assumes Noun):**\n",
    "\n",
    "# ```python\n",
    "# lemmatizer.lemmatize('running')\n",
    "# ```\n",
    "\n",
    "# Output:\n",
    "# ```\n",
    "# 'running'  # Assumes 'running' is a noun and returns it as is.\n",
    "# ```\n",
    "\n",
    "# 2. **With POS Tag (Verb):**\n",
    "\n",
    "# ```python\n",
    "# lemmatizer.lemmatize('running', wordnet.VERB)\n",
    "# ```\n",
    "\n",
    "# Output:\n",
    "# ```\n",
    "# 'run'  # Correctly identifies 'running' as a verb and returns 'run'.\n",
    "# ```\n",
    "\n",
    "# ### Full Example\n",
    "\n",
    "# Here's a complete example showing both cases:\n",
    "\n",
    "# ```python\n",
    "# import nltk\n",
    "# from nltk.stem import WordNetLemmatizer\n",
    "# from nltk.corpus import wordnet\n",
    "\n",
    "# # Download necessary NLTK data files\n",
    "# nltk.download('wordnet')\n",
    "# nltk.download('averaged_perceptron_tagger')\n",
    "\n",
    "# # Initialize lemmatizer\n",
    "# lemmatizer = WordNetLemmatizer()\n",
    "\n",
    "# # Function to convert NLTK POS tags to WordNet POS tags\n",
    "# def pos_tag_convert(nltk_tag: str) -> str:\n",
    "#     if nltk_tag.startswith('J'):\n",
    "#         return wordnet.ADJ\n",
    "#     elif nltk_tag.startswith('V'):\n",
    "#         return wordnet.VERB\n",
    "#     elif nltk_tag.startswith('N'):\n",
    "#         return wordnet.NOUN\n",
    "#     elif nltk_tag.startswith('R'):\n",
    "#         return wordnet.ADV\n",
    "#     else:\n",
    "#         return wordnet.NOUN\n"
   ]
  },
  {
   "cell_type": "code",
   "execution_count": 9,
   "id": "1d342fb5-1e07-4776-8945-833d961400aa",
   "metadata": {},
   "outputs": [
    {
     "name": "stdout",
     "output_type": "stream",
     "text": [
      "The number of positive tweets: 5000\n",
      "The number of negative tweets: 5000\n"
     ]
    }
   ],
   "source": [
    "# Load positive and negative tweets\n",
    "all_positive_tweets, all_negative_tweets = load_tweets()\n",
    "\n",
    "# View the total number of positive and negative tweets.\n",
    "print(f\"The number of positive tweets: {len(all_positive_tweets)}\")\n",
    "print(f\"The number of negative tweets: {len(all_negative_tweets)}\")"
   ]
  },
  {
   "cell_type": "code",
   "execution_count": 10,
   "id": "7455caf6-1fd1-4e99-8c58-67c2a2a523b1",
   "metadata": {},
   "outputs": [
    {
     "name": "stdout",
     "output_type": "stream",
     "text": [
      "Positive tweet example:\n",
      "@DespiteOfficial we had a listen last night :) As You Bleed is an amazing track. When are you in Scotland?!\n",
      "\n",
      "Negative tweet example:\n",
      "@Hegelbon That heart sliding into the waste basket. :(\n"
     ]
    }
   ],
   "source": [
    "\n",
    "tweet_number = 2\n",
    "print('Positive tweet example:')\n",
    "print(all_positive_tweets[tweet_number])\n",
    "print('\\nNegative tweet example:')\n",
    "print(all_negative_tweets[tweet_number])\n"
   ]
  },
  {
   "cell_type": "code",
   "execution_count": 11,
   "id": "6503052d-a825-4b97-8e66-ef00836e692d",
   "metadata": {},
   "outputs": [],
   "source": [
    "\n",
    "# Process all the tweets: tokenize the string, remove tickers, handles, punctuation and stopwords, stem the words\n",
    "all_positive_tweets_processed = [process_tweet(tweet) for tweet in all_positive_tweets]\n",
    "all_negative_tweets_processed = [process_tweet(tweet) for tweet in all_negative_tweets]\n"
   ]
  },
  {
   "cell_type": "code",
   "execution_count": 12,
   "id": "9636d1a3-6c4f-4bb7-9914-fc4718a9d43d",
   "metadata": {},
   "outputs": [
    {
     "name": "stdout",
     "output_type": "stream",
     "text": [
      "Positive processed tweet example:\n",
      "['listen', 'last', 'night', ':)', 'bleed', 'amazing', 'track', 'scotland']\n",
      "\n",
      "Negative processed tweet example:\n",
      "['heart', 'slide', 'waste', 'basket', ':(']\n"
     ]
    }
   ],
   "source": [
    "\n",
    "tweet_number = 2\n",
    "print('Positive processed tweet example:')\n",
    "print(all_positive_tweets_processed[tweet_number])\n",
    "print('\\nNegative processed tweet example:')\n",
    "print(all_negative_tweets_processed[tweet_number])\n"
   ]
  },
  {
   "cell_type": "markdown",
   "id": "b15e777a-2fd5-413d-8a8b-d59b6ad2ea72",
   "metadata": {},
   "source": [
    "<a name=\"1\"></a>\n",
    "## 2) Splitting  data into train and test\n"
   ]
  },
  {
   "cell_type": "code",
   "execution_count": 13,
   "id": "84dfa3ab-9e44-4587-9e51-84591096ebac",
   "metadata": {},
   "outputs": [
    {
     "name": "stdout",
     "output_type": "stream",
     "text": [
      "There are 8000 sentences for training.\n",
      "There are 8000 labels for training.\n",
      "\n",
      "There are 2000 sentences for validation.\n",
      "There are 2000 labels for validation.\n"
     ]
    }
   ],
   "source": [
    "\n",
    "train_pos = all_positive_tweets_processed[:4000]\n",
    "test_pos = all_positive_tweets_processed[4000:]\n",
    "\n",
    "train_neg = all_negative_tweets_processed[:4000]\n",
    "test_neg = all_negative_tweets_processed[4000:]\n",
    "\n",
    "train_x = train_pos + train_neg\n",
    "test_x = test_pos + test_neg\n",
    "\n",
    "train_y = [[1] for _ in train_pos] + [[0] for _ in train_neg]\n",
    "test_y = [[1] for _ in test_pos] + [[0] for _ in test_neg]\n",
    "\n",
    "print(f\"There are {len(train_x)} sentences for training.\")\n",
    "print(f\"There are {len(train_y)} labels for training.\\n\")\n",
    "print(f\"There are {len(test_x)} sentences for validation.\")\n",
    "print(f\"There are {len(test_y)} labels for validation.\")\n"
   ]
  },
  {
   "cell_type": "markdown",
   "id": "03510d56-365e-4db3-84de-6d03e708f544",
   "metadata": {},
   "source": [
    "<a name=\"1\"></a>\n",
    "## 3) Build the vocabulary\n"
   ]
  },
  {
   "cell_type": "code",
   "execution_count": 14,
   "id": "e4e83a11-9798-44dc-af32-d95a020cb2e5",
   "metadata": {},
   "outputs": [],
   "source": [
    "\n",
    "def build_vocabulary(corpus):\n",
    "    \n",
    "    '''Function that builds a vocabulary from the given corpus\n",
    "    Input: \n",
    "        - corpus (list): the corpus\n",
    "    Output:\n",
    "        - vocab (dict): Dictionary of all the words in the corpus.\n",
    "                The keys are the words and the values are integers.\n",
    "    '''\n",
    "\n",
    "    # The vocabulary includes special tokens like padding token and token for unknown words\n",
    "    # Keys are words and values are distinct integers (increasing by one from 0)\n",
    "    vocab = {'': 0, '[UNK]': 1} \n",
    "\n",
    "    \n",
    "    # For each tweet in the training set\n",
    "    for tweet in corpus:\n",
    "        # For each word in the tweet\n",
    "        for word in tweet:\n",
    "            # If the word is not in vocabulary yet, add it to vocabulary\n",
    "            if word not in vocab:\n",
    "                vocab[word] = len(vocab)\n",
    "    \n",
    "    return vocab\n"
   ]
  },
  {
   "cell_type": "code",
   "execution_count": 15,
   "id": "bb9230bb-78e0-4b87-8730-15405a47ed02",
   "metadata": {},
   "outputs": [
    {
     "name": "stdout",
     "output_type": "stream",
     "text": [
      "Vocabulary contains 9535 words\n",
      "\n"
     ]
    },
    {
     "data": {
      "text/plain": [
       "[('', 0),\n",
       " ('[UNK]', 1),\n",
       " ('followfriday', 2),\n",
       " ('top', 3),\n",
       " ('engage', 4),\n",
       " ('member', 5),\n",
       " ('community', 6),\n",
       " ('week', 7),\n",
       " (':)', 8),\n",
       " ('hey', 9)]"
      ]
     },
     "execution_count": 15,
     "metadata": {},
     "output_type": "execute_result"
    }
   ],
   "source": [
    "\n",
    "vocab = build_vocabulary(train_x)\n",
    "num_words = len(vocab)\n",
    "\n",
    "print(f\"Vocabulary contains {num_words} words\\n\")\n",
    "list(vocab.items())[0:10]\n"
   ]
  },
  {
   "cell_type": "markdown",
   "id": "fad63368-ccea-48ff-ab73-016b5d98ca3f",
   "metadata": {},
   "source": [
    "<a name=\"1\"></a>\n",
    "## 4) Convert a Tweet to a Tensor"
   ]
  },
  {
   "cell_type": "markdown",
   "id": "92416e2d-5615-4b5b-913a-1c60732e1d41",
   "metadata": {},
   "source": [
    "You have to look at all tweets in the training and validation set and find the longest one to pad all of them to the maximum length."
   ]
  },
  {
   "cell_type": "code",
   "execution_count": 17,
   "id": "673f8db7-046e-49fd-b5e3-63111087ff50",
   "metadata": {},
   "outputs": [
    {
     "data": {
      "image/png": "[encoded data removed]",
      "text/plain": [
       "<Figure size 640x480 with 1 Axes>"
      ]
     },
     "metadata": {},
     "output_type": "display_data"
    }
   ],
   "source": [
    "plt.hist([len(t) for t in train_x + test_x]);"
   ]
  },
  {
   "cell_type": "code",
   "execution_count": 18,
   "id": "5b65e5c1-4779-439f-bc96-7f0baa69de15",
   "metadata": {},
   "outputs": [
    {
     "data": {
      "text/plain": [
       "[('', 0),\n",
       " ('[UNK]', 1),\n",
       " ('followfriday', 2),\n",
       " ('top', 3),\n",
       " ('engage', 4),\n",
       " ('member', 5)]"
      ]
     },
     "execution_count": 18,
     "metadata": {},
     "output_type": "execute_result"
    }
   ],
   "source": [
    "list(vocab.items())[:6]"
   ]
  },
  {
   "cell_type": "code",
   "execution_count": 19,
   "id": "20fd075f-2ed6-4cb4-859e-c6c3257da152",
   "metadata": {},
   "outputs": [
    {
     "data": {
      "text/plain": [
       "[('bun', 9529),\n",
       " ('dislike', 9530),\n",
       " ('burdensome', 9531),\n",
       " ('amelia', 9532),\n",
       " ('melon', 9533),\n",
       " ('soccer', 9534)]"
      ]
     },
     "execution_count": 19,
     "metadata": {},
     "output_type": "execute_result"
    }
   ],
   "source": [
    "list(vocab.items())[-6:]"
   ]
  },
  {
   "cell_type": "code",
   "execution_count": 21,
   "id": "8a97b951-0721-40a0-a574-5005606b4c67",
   "metadata": {},
   "outputs": [
    {
     "name": "stdout",
     "output_type": "stream",
     "text": [
      "The length of the longest tweet is 51 tokens.\n"
     ]
    }
   ],
   "source": [
    "\n",
    "def max_length(training_x, validation_x):\n",
    "    \n",
    "    \"\"\"Computes the length of the longest tweet in the training and validation sets.\n",
    "\n",
    "    Args:\n",
    "        training_x (list): The tweets in the training set.\n",
    "        validation_x (list): The tweets in the validation set.\n",
    "\n",
    "    Returns:\n",
    "        int: Length of the longest tweet.\n",
    "    \"\"\"\n",
    "    \n",
    "    combined_x = training_x + validation_x\n",
    "    max_len = max(len(tweet) for tweet in combined_x)\n",
    "    \n",
    "    return max_len\n",
    "\n",
    "max_len = max_length(train_x, test_x)\n",
    "print(f'The length of the longest tweet is {max_len} tokens.')"
   ]
  },
  {
   "cell_type": "code",
   "execution_count": 22,
   "id": "ad569917-61b1-4632-adaf-8fd4e3b45969",
   "metadata": {},
   "outputs": [],
   "source": [
    "\n",
    "def padded_sequence(tweet, vocab_dict, max_len, unk_token = '[UNK]'):\n",
    "    \n",
    "    \"\"\"transform sequences of words into padded sequences of numbers\n",
    "\n",
    "    Args:\n",
    "        tweet (list): A single tweet encoded as a list of strings.\n",
    "        vocab_dict (dict): Vocabulary.\n",
    "        max_len (int): Length of the longest tweet.\n",
    "        unk_token (str, optional): Unknown token. Defaults to '[UNK]'.\n",
    "\n",
    "    Returns:\n",
    "        list: Padded tweet encoded as a list of int.\n",
    "    \"\"\"\n",
    "    \n",
    "    # Find the ID of the UNK token, to use it when you encounter a new word\n",
    "    unk_ID = vocab_dict.get(unk_token, 1)\n",
    "    \n",
    "    # First convert the words to integers by looking up the vocab_dict\n",
    "    encoded_tweet = [vocab_dict.get(word, unk_ID) for word in tweet]\n",
    "\n",
    "    # Then pad the tensor with zeroes up to the length max_len\n",
    "    padded_tensor = encoded_tweet + [0] * (max_len - len(encoded_tweet))\n",
    "\n",
    "\n",
    "    return padded_tensor"
   ]
  },
  {
   "cell_type": "code",
   "execution_count": 24,
   "id": "6f4110a6-581b-4bee-a7ed-b74092a470d6",
   "metadata": {},
   "outputs": [],
   "source": [
    "train_x_padded = [padded_sequence(x, vocab, max_len) for x in train_x]\n",
    "test_x_padded = [padded_sequence(x, vocab, max_len) for x in test_x]"
   ]
  },
  {
   "cell_type": "code",
   "execution_count": 28,
   "id": "040f1342-dd7d-4bb2-826f-fc466953ea8b",
   "metadata": {},
   "outputs": [
    {
     "name": "stdout",
     "output_type": "stream",
     "text": [
      "['followfriday', 'top', 'influencers', 'community', 'week', ':)']\n",
      "[2, 3, 89, 6, 7, 8, 0, 0, 0, 0, 0, 0, 0, 0, 0, 0, 0, 0, 0, 0, 0, 0, 0, 0, 0, 0, 0, 0, 0, 0, 0, 0, 0, 0, 0, 0, 0, 0, 0, 0, 0, 0, 0, 0, 0, 0, 0, 0, 0, 0, 0]\n"
     ]
    }
   ],
   "source": [
    "print(train_x[10])\n",
    "print(train_x_padded[10])"
   ]
  },
  {
   "cell_type": "markdown",
   "id": "8fe9d547-b66d-4e56-9ade-10b2cdcbd52e",
   "metadata": {},
   "source": [
    "<a name=\"1\"></a>\n",
    "## 5) Text classifier: fully connected dense layer"
   ]
  },
  {
   "cell_type": "markdown",
   "id": "59f68126-d710-44ab-a2b6-0e9662e1df22",
   "metadata": {},
   "source": [
    "Model initializes the embedding layer by random numbers"
   ]
  },
  {
   "cell_type": "markdown",
   "id": "32546dd9-0251-43f0-89e2-77e632db6f9a",
   "metadata": {},
   "source": [
    "<a name=\"1\"></a>\n",
    "**Input Shape:**              \n",
    "The input to this layer should be a 3D tensor with shape (batch_size, timesteps, features).          \n",
    "batch_size: Number of samples in the batch.          \n",
    "timesteps: Number of time steps in each sample.           \n",
    "features: Number of features per time step.          "
   ]
  },
  {
   "cell_type": "code",
   "execution_count": 35,
   "id": "0e401f07-f80e-4405-b8d1-1a50170be90f",
   "metadata": {},
   "outputs": [
    {
     "name": "stdout",
     "output_type": "stream",
     "text": [
      "Model: \"sequential_2\"\n",
      "_________________________________________________________________\n",
      " Layer (type)                Output Shape              Param #   \n",
      "=================================================================\n",
      " embedding_2 (Embedding)     (None, 51, 16)            152560    \n",
      "                                                                 \n",
      " global_average_pooling1d_2   (None, 16)               0         \n",
      " (GlobalAveragePooling1D)                                        \n",
      "                                                                 \n",
      " dense_2 (Dense)             (None, 1)                 17        \n",
      "                                                                 \n",
      "=================================================================\n",
      "Total params: 152,577\n",
      "Trainable params: 152,577\n",
      "Non-trainable params: 0\n",
      "_________________________________________________________________\n"
     ]
    }
   ],
   "source": [
    "\n",
    "def create_model(num_words, embedding_dim, max_len):\n",
    "    \"\"\"\n",
    "    \n",
    "    Args:\n",
    "        num_words (int): size of the vocabulary for the Embedding layer input\n",
    "        embedding_dim (int): dimensionality of the Embedding layer output\n",
    "        max_len (int): length of the input sequences\n",
    "    \n",
    "    Returns:\n",
    "        model (tf.keras Model): the text classifier model\n",
    "    \"\"\"\n",
    "    \n",
    "    tf.random.set_seed(123)\n",
    "    \n",
    "    model = tf.keras.Sequential([ \n",
    "        tf.keras.layers.Embedding(input_dim=num_words, output_dim=embedding_dim, input_length=max_len),\n",
    "        tf.keras.layers.GlobalAveragePooling1D(), # Captures Overall Sentiment\n",
    "        tf.keras.layers.Dense(1, activation='sigmoid')\n",
    "    ]) \n",
    "    \n",
    "    model.compile(loss='binary_crossentropy',\n",
    "                  optimizer='adam',\n",
    "                  metrics=['accuracy'])\n",
    "\n",
    "    return model\n",
    "\n",
    "# Create the model\n",
    "model = create_model(num_words=num_words, embedding_dim=16, max_len=max_len)\n",
    "model.summary()"
   ]
  },
  {
   "cell_type": "markdown",
   "id": "e012fe89-9c2a-4d57-8b62-5869289bed18",
   "metadata": {},
   "source": [
    "<a name=\"1\"></a>\n",
    "### Training the model"
   ]
  },
  {
   "cell_type": "code",
   "execution_count": 38,
   "id": "26dd6613-e1b4-42e9-97c9-31f88ce2a707",
   "metadata": {},
   "outputs": [
    {
     "name": "stdout",
     "output_type": "stream",
     "text": [
      "Epoch 1/20\n",
      "250/250 [==============================] - 2s 3ms/step - loss: 0.6829 - accuracy: 0.6625 - val_loss: 0.6664 - val_accuracy: 0.9870\n",
      "Epoch 2/20\n",
      "250/250 [==============================] - 1s 2ms/step - loss: 0.6312 - accuracy: 0.9516 - val_loss: 0.5955 - val_accuracy: 0.9765\n",
      "Epoch 3/20\n",
      "250/250 [==============================] - 1s 2ms/step - loss: 0.5378 - accuracy: 0.9875 - val_loss: 0.4964 - val_accuracy: 0.9885\n",
      "Epoch 4/20\n",
      "250/250 [==============================] - 1s 2ms/step - loss: 0.4305 - accuracy: 0.9902 - val_loss: 0.3952 - val_accuracy: 0.9930\n",
      "Epoch 5/20\n",
      "250/250 [==============================] - 1s 2ms/step - loss: 0.3333 - accuracy: 0.9942 - val_loss: 0.3089 - val_accuracy: 0.9920\n",
      "Epoch 6/20\n",
      "250/250 [==============================] - 1s 2ms/step - loss: 0.2551 - accuracy: 0.9944 - val_loss: 0.2418 - val_accuracy: 0.9955\n",
      "Epoch 7/20\n",
      "250/250 [==============================] - 1s 2ms/step - loss: 0.1960 - accuracy: 0.9954 - val_loss: 0.1895 - val_accuracy: 0.9945\n",
      "Epoch 8/20\n",
      "250/250 [==============================] - 1s 2ms/step - loss: 0.1519 - accuracy: 0.9961 - val_loss: 0.1507 - val_accuracy: 0.9950\n",
      "Epoch 9/20\n",
      "250/250 [==============================] - 1s 2ms/step - loss: 0.1196 - accuracy: 0.9962 - val_loss: 0.1216 - val_accuracy: 0.9955\n",
      "Epoch 10/20\n",
      "250/250 [==============================] - 1s 2ms/step - loss: 0.0954 - accuracy: 0.9969 - val_loss: 0.0990 - val_accuracy: 0.9950\n",
      "Epoch 11/20\n",
      "250/250 [==============================] - 1s 2ms/step - loss: 0.0773 - accuracy: 0.9969 - val_loss: 0.0821 - val_accuracy: 0.9960\n",
      "Epoch 12/20\n",
      "250/250 [==============================] - 1s 2ms/step - loss: 0.0634 - accuracy: 0.9971 - val_loss: 0.0686 - val_accuracy: 0.9960\n",
      "Epoch 13/20\n",
      "250/250 [==============================] - 1s 2ms/step - loss: 0.0527 - accuracy: 0.9975 - val_loss: 0.0581 - val_accuracy: 0.9965\n",
      "Epoch 14/20\n",
      "250/250 [==============================] - 1s 2ms/step - loss: 0.0442 - accuracy: 0.9979 - val_loss: 0.0498 - val_accuracy: 0.9960\n",
      "Epoch 15/20\n",
      "250/250 [==============================] - 1s 2ms/step - loss: 0.0376 - accuracy: 0.9980 - val_loss: 0.0429 - val_accuracy: 0.9960\n",
      "Epoch 16/20\n",
      "250/250 [==============================] - 1s 2ms/step - loss: 0.0322 - accuracy: 0.9980 - val_loss: 0.0374 - val_accuracy: 0.9960\n",
      "Epoch 17/20\n",
      "250/250 [==============================] - 1s 2ms/step - loss: 0.0278 - accuracy: 0.9980 - val_loss: 0.0326 - val_accuracy: 0.9960\n",
      "Epoch 18/20\n",
      "250/250 [==============================] - 1s 2ms/step - loss: 0.0242 - accuracy: 0.9984 - val_loss: 0.0288 - val_accuracy: 0.9960\n",
      "Epoch 19/20\n",
      "250/250 [==============================] - 1s 2ms/step - loss: 0.0213 - accuracy: 0.9983 - val_loss: 0.0259 - val_accuracy: 0.9955\n",
      "Epoch 20/20\n",
      "250/250 [==============================] - 1s 2ms/step - loss: 0.0187 - accuracy: 0.9983 - val_loss: 0.0232 - val_accuracy: 0.9955\n"
     ]
    }
   ],
   "source": [
    "\n",
    "train_x_prepared = np.array(train_x_padded)\n",
    "test_x_prepared = np.array(test_x_padded)\n",
    "\n",
    "train_y_prepared = np.array(train_y)\n",
    "test_y_prepared = np.array(test_y)\n",
    "\n",
    "history = model.fit(train_x_prepared, train_y_prepared, epochs=20, validation_data=(test_x_prepared, test_y_prepared))"
   ]
  },
  {
   "cell_type": "markdown",
   "id": "bf15ba87-2c0f-43a5-9c53-f723a457f124",
   "metadata": {},
   "source": [
    "<a name=\"1\"></a>\n",
    "### Evaluate the model"
   ]
  },
  {
   "cell_type": "code",
   "execution_count": 40,
   "id": "384c4626-bc41-4168-a9d7-bbe293e85ec4",
   "metadata": {},
   "outputs": [
    {
     "data": {
      "image/png": "[encoded data removed]",
      "text/plain": [
       "<Figure size 640x480 with 1 Axes>"
      ]
     },
     "metadata": {},
     "output_type": "display_data"
    },
    {
     "data": {
      "image/png": "[encoded data removed]",
      "text/plain": [
       "<Figure size 640x480 with 1 Axes>"
      ]
     },
     "metadata": {},
     "output_type": "display_data"
    }
   ],
   "source": [
    "def plot_metrics(history, metric):\n",
    "    plt.plot(history.history[metric])\n",
    "    plt.plot(history.history[f'val_{metric}'])\n",
    "    plt.xlabel(\"Epochs\")\n",
    "    plt.ylabel(metric.title())\n",
    "    plt.legend([metric, f'val_{metric}'])\n",
    "    plt.show()\n",
    "    \n",
    "plot_metrics(history, \"accuracy\")\n",
    "plot_metrics(history, \"loss\")"
   ]
  },
  {
   "cell_type": "markdown",
   "id": "9876e148-153c-4082-8948-72222bedbbaf",
   "metadata": {},
   "source": [
    "<a name=\"1\"></a>\n",
    "### Prediction"
   ]
  },
  {
   "cell_type": "code",
   "execution_count": 42,
   "id": "4250db82-0e05-4fd8-a916-e636660470c0",
   "metadata": {},
   "outputs": [],
   "source": [
    "def get_prediction_from_tweet(tweet, model, vocab, max_len):\n",
    "    tweet = process_tweet(tweet)\n",
    "    tweet = padded_sequence(tweet, vocab, max_len)\n",
    "    tweet = np.array([tweet])\n",
    "\n",
    "    prediction = model.predict(tweet, verbose=False)\n",
    "    \n",
    "    return prediction[0][0]"
   ]
  },
  {
   "cell_type": "code",
   "execution_count": 46,
   "id": "6091ed9e-c862-4f5f-9c10-78b099d23fac",
   "metadata": {},
   "outputs": [
    {
     "name": "stdout",
     "output_type": "stream",
     "text": [
      "Model prediction on unseen tweet: 0.3944305181503296\n"
     ]
    }
   ],
   "source": [
    "new_tweet = '@Mehran @ML team OMG!!! What the hell, These people are cruel!!!'\n",
    "\n",
    "prediction = get_prediction_from_tweet(new_tweet, model, vocab, max_len)\n",
    "print(f\"Model prediction on unseen tweet: {prediction}\")"
   ]
  },
  {
   "cell_type": "markdown",
   "id": "09bc9612-d18e-4606-9f7c-a7b1f02877e8",
   "metadata": {},
   "source": [
    "<a name=\"1\"></a>\n",
    "## 6) Text classifier: Naive Bayes"
   ]
  },
  {
   "cell_type": "code",
   "execution_count": 48,
   "id": "881ff92a-cecb-40a0-b4bf-a98276947acf",
   "metadata": {},
   "outputs": [],
   "source": [
    "from sklearn.naive_bayes import MultinomialNB\n",
    "from sklearn.metrics import accuracy_score, classification_report"
   ]
  },
  {
   "cell_type": "code",
   "execution_count": 87,
   "id": "13094144-29bc-4ae8-bb69-b61453b844f5",
   "metadata": {},
   "outputs": [
    {
     "data": {
      "text/plain": [
       "(8000, 51)"
      ]
     },
     "execution_count": 87,
     "metadata": {},
     "output_type": "execute_result"
    }
   ],
   "source": [
    "train_x_prepared.shape"
   ]
  },
  {
   "cell_type": "code",
   "execution_count": 88,
   "id": "875d70ab-02d5-4bf5-9495-fd6d479d1ff6",
   "metadata": {},
   "outputs": [
    {
     "data": {
      "text/plain": [
       "array([[   2,    3,    4, ...,    0,    0,    0],\n",
       "       [   9,   10,   11, ...,    0,    0,    0],\n",
       "       [  22,   23,   24, ...,    0,    0,    0],\n",
       "       ...,\n",
       "       [ 361,  305,  984, ...,    0,    0,    0],\n",
       "       [ 133, 1616,  221, ...,    0,    0,    0],\n",
       "       [  36, 1320,  116, ...,    0,    0,    0]])"
      ]
     },
     "execution_count": 88,
     "metadata": {},
     "output_type": "execute_result"
    }
   ],
   "source": [
    "train_x_prepared"
   ]
  },
  {
   "cell_type": "code",
   "execution_count": 51,
   "id": "a7595eaf-1167-4ea5-87f0-6ae28fa88319",
   "metadata": {},
   "outputs": [
    {
     "name": "stderr",
     "output_type": "stream",
     "text": [
      "/home/mpir0002/miniconda3/envs/tf/lib/python3.11/site-packages/sklearn/utils/validation.py:1184: DataConversionWarning: A column-vector y was passed when a 1d array was expected. Please change the shape of y to (n_samples, ), for example using ravel().\n",
      "  y = column_or_1d(y, warn=True)\n"
     ]
    },
    {
     "data": {
      "text/html": [
       "<style>#sk-container-id-2 {color: black;}#sk-container-id-2 pre{padding: 0;}#sk-container-id-2 div.sk-toggleable {background-color: white;}#sk-container-id-2 label.sk-toggleable__label {cursor: pointer;display: block;width: 100%;margin-bottom: 0;padding: 0.3em;box-sizing: border-box;text-align: center;}#sk-container-id-2 label.sk-toggleable__label-arrow:before {content: \"▸\";float: left;margin-right: 0.25em;color: #696969;}#sk-container-id-2 label.sk-toggleable__label-arrow:hover:before {color: black;}#sk-container-id-2 div.sk-estimator:hover label.sk-toggleable__label-arrow:before {color: black;}#sk-container-id-2 div.sk-toggleable__content {max-height: 0;max-width: 0;overflow: hidden;text-align: left;background-color: #f0f8ff;}#sk-container-id-2 div.sk-toggleable__content pre {margin: 0.2em;color: black;border-radius: 0.25em;background-color: #f0f8ff;}#sk-container-id-2 input.sk-toggleable__control:checked~div.sk-toggleable__content {max-height: 200px;max-width: 100%;overflow: auto;}#sk-container-id-2 input.sk-toggleable__control:checked~label.sk-toggleable__label-arrow:before {content: \"▾\";}#sk-container-id-2 div.sk-estimator input.sk-toggleable__control:checked~label.sk-toggleable__label {background-color: #d4ebff;}#sk-container-id-2 div.sk-label input.sk-toggleable__control:checked~label.sk-toggleable__label {background-color: #d4ebff;}#sk-container-id-2 input.sk-hidden--visually {border: 0;clip: rect(1px 1px 1px 1px);clip: rect(1px, 1px, 1px, 1px);height: 1px;margin: -1px;overflow: hidden;padding: 0;position: absolute;width: 1px;}#sk-container-id-2 div.sk-estimator {font-family: monospace;background-color: #f0f8ff;border: 1px dotted black;border-radius: 0.25em;box-sizing: border-box;margin-bottom: 0.5em;}#sk-container-id-2 div.sk-estimator:hover {background-color: #d4ebff;}#sk-container-id-2 div.sk-parallel-item::after {content: \"\";width: 100%;border-bottom: 1px solid gray;flex-grow: 1;}#sk-container-id-2 div.sk-label:hover label.sk-toggleable__label {background-color: #d4ebff;}#sk-container-id-2 div.sk-serial::before {content: \"\";position: absolute;border-left: 1px solid gray;box-sizing: border-box;top: 0;bottom: 0;left: 50%;z-index: 0;}#sk-container-id-2 div.sk-serial {display: flex;flex-direction: column;align-items: center;background-color: white;padding-right: 0.2em;padding-left: 0.2em;position: relative;}#sk-container-id-2 div.sk-item {position: relative;z-index: 1;}#sk-container-id-2 div.sk-parallel {display: flex;align-items: stretch;justify-content: center;background-color: white;position: relative;}#sk-container-id-2 div.sk-item::before, #sk-container-id-2 div.sk-parallel-item::before {content: \"\";position: absolute;border-left: 1px solid gray;box-sizing: border-box;top: 0;bottom: 0;left: 50%;z-index: -1;}#sk-container-id-2 div.sk-parallel-item {display: flex;flex-direction: column;z-index: 1;position: relative;background-color: white;}#sk-container-id-2 div.sk-parallel-item:first-child::after {align-self: flex-end;width: 50%;}#sk-container-id-2 div.sk-parallel-item:last-child::after {align-self: flex-start;width: 50%;}#sk-container-id-2 div.sk-parallel-item:only-child::after {width: 0;}#sk-container-id-2 div.sk-dashed-wrapped {border: 1px dashed gray;margin: 0 0.4em 0.5em 0.4em;box-sizing: border-box;padding-bottom: 0.4em;background-color: white;}#sk-container-id-2 div.sk-label label {font-family: monospace;font-weight: bold;display: inline-block;line-height: 1.2em;}#sk-container-id-2 div.sk-label-container {text-align: center;}#sk-container-id-2 div.sk-container {/* jupyter's `normalize.less` sets `[hidden] { display: none; }` but bootstrap.min.css set `[hidden] { display: none !important; }` so we also need the `!important` here to be able to override the default hidden behavior on the sphinx rendered scikit-learn.org. See: https://github.com/scikit-learn/scikit-learn/issues/21755 */display: inline-block !important;position: relative;}#sk-container-id-2 div.sk-text-repr-fallback {display: none;}</style><div id=\"sk-container-id-2\" class=\"sk-top-container\"><div class=\"sk-text-repr-fallback\"><pre>MultinomialNB()</pre><b>In a Jupyter environment, please rerun this cell to show the HTML representation or trust the notebook. <br />On GitHub, the HTML representation is unable to render, please try loading this page with nbviewer.org.</b></div><div class=\"sk-container\" hidden><div class=\"sk-item\"><div class=\"sk-estimator sk-toggleable\"><input class=\"sk-toggleable__control sk-hidden--visually\" id=\"sk-estimator-id-2\" type=\"checkbox\" checked><label for=\"sk-estimator-id-2\" class=\"sk-toggleable__label sk-toggleable__label-arrow\">MultinomialNB</label><div class=\"sk-toggleable__content\"><pre>MultinomialNB()</pre></div></div></div></div></div>"
      ],
      "text/plain": [
       "MultinomialNB()"
      ]
     },
     "execution_count": 51,
     "metadata": {},
     "output_type": "execute_result"
    }
   ],
   "source": [
    "nb_classifier = MultinomialNB()\n",
    "nb_classifier.fit(train_x_prepared, train_y_prepared)"
   ]
  },
  {
   "cell_type": "code",
   "execution_count": 78,
   "id": "aa949708-9577-4a9b-a261-6e74f8209a99",
   "metadata": {},
   "outputs": [
    {
     "name": "stdout",
     "output_type": "stream",
     "text": [
      "[1]\n"
     ]
    }
   ],
   "source": [
    "# Test with a new tweet with Naive Bayes\n",
    "new_tweet = \"What the heck is going on!\" # It doesn't look a positive tweet but the model classifies that as positive\n",
    "new_tweet = process_tweet(new_tweet)\n",
    "new_tweet = padded_sequence(new_tweet, vocab, max_len)\n",
    "new_tweet = np.array([new_tweet])\n",
    "new_prediction = nb_classifier.predict(new_tweet)\n",
    "print(new_prediction)"
   ]
  },
  {
   "cell_type": "code",
   "execution_count": 84,
   "id": "cc8f653c-4bb2-4f55-96a3-b423b5e0a43d",
   "metadata": {},
   "outputs": [
    {
     "name": "stdout",
     "output_type": "stream",
     "text": [
      "[[0.46918467]]\n",
      "[0]\n"
     ]
    }
   ],
   "source": [
    "# Test with a new tweet with neural network model\n",
    "pred = prediction = model.predict(new_tweet, verbose=False)\n",
    "print(pred)\n",
    "print([1 if pred > 0.5 else 0])"
   ]
  },
  {
   "cell_type": "markdown",
   "id": "9f7fe487-d8e8-4eed-9bd8-f7defb37580d",
   "metadata": {},
   "source": [
    "<a name=\"1\"></a>\n",
    "## 7) Accuracy for the two models"
   ]
  },
  {
   "cell_type": "code",
   "execution_count": 90,
   "id": "0e0c3054-0718-443d-8ca3-97d8489b6fe3",
   "metadata": {},
   "outputs": [
    {
     "name": "stdout",
     "output_type": "stream",
     "text": [
      "Accuracy: 0.9955\n"
     ]
    }
   ],
   "source": [
    "# Neural network model\n",
    "labels_pred_deep = model.predict(test_x_prepared, verbose=False)\n",
    "labels_pred_deep = [1 if pred > 0.5 else 0 for pred in labels_pred_deep]\n",
    "print(\"Accuracy:\", accuracy_score(test_y_prepared, labels_pred_deep))\n"
   ]
  },
  {
   "cell_type": "code",
   "execution_count": 85,
   "id": "38d538c0-9ee2-46fd-b22d-04a6e22819c8",
   "metadata": {},
   "outputs": [
    {
     "name": "stdout",
     "output_type": "stream",
     "text": [
      "Accuracy: 0.5205\n"
     ]
    }
   ],
   "source": [
    "# Naive Bayes classifier\n",
    "labels_pred_nb = nb_classifier.predict(test_x_prepared)\n",
    "print(\"Accuracy:\", accuracy_score(test_y_prepared, labels_pred_nb))\n",
    "#print(\"Classification Report:\\n\", classification_report(test_y_prepared, labels_pred_nb))\n"
   ]
  },
  {
   "cell_type": "markdown",
   "id": "1cf6c0a5-9ded-4649-bc07-6592c1b80cdd",
   "metadata": {},
   "source": [
    "## 8) Conclusion    \n",
    "Neural network works better than Naive Bayes. Unlike deep learning models that start learning an embedding layer for each token to perform prediction, Naive Bayes counts the number of occurrences of each word in a document (Bag-of-Words), then Measures the importance of a word in a document relative to a corpus (TF-IDF)."
   ]
  },
  {
   "cell_type": "code",
   "execution_count": null,
   "id": "5b13f72d-2eaa-4d39-ad91-daad296f0994",
   "metadata": {},
   "outputs": [],
   "source": []
  }
 ],
 "metadata": {
  "kernelspec": {
   "display_name": "Python 3 (ipykernel)",
   "language": "python",
   "name": "python3"
  },
  "language_info": {
   "codemirror_mode": {
    "name": "ipython",
    "version": 3
   },
   "file_extension": ".py",
   "mimetype": "text/x-python",
   "name": "python",
   "nbconvert_exporter": "python",
   "pygments_lexer": "ipython3",
   "version": "3.11.4"
  }
 },
 "nbformat": 4,
 "nbformat_minor": 5
}
